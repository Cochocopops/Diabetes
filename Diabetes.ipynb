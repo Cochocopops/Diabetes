{
 "cells": [
  {
   "cell_type": "markdown",
   "id": "468755e1",
   "metadata": {},
   "source": [
    "Corentin Chanetreau - 74799"
   ]
  },
  {
   "cell_type": "raw",
   "id": "179b18e7",
   "metadata": {},
   "source": [
    "Examine the diabetes dataset to forecast the likelihood of diabetes occurrence based on various\n",
    "features including pregnancies, glucose levels, blood pressure, skin thickness, insulin levels, BMI,\n",
    "diabetes pedigree function, and age. The objective is to determine whether individuals are at\n",
    "risk of diabetes onset or not. To accomplish this, use the K Nearest Neighbors (KNN) algorithm\n",
    "to classify individuals into groups based on their health status."
   ]
  },
  {
   "cell_type": "code",
   "execution_count": 4,
   "id": "9160c679",
   "metadata": {},
   "outputs": [
    {
     "name": "stdout",
     "output_type": "stream",
     "text": [
      "Pregnancies                 0\n",
      "Glucose                     0\n",
      "BloodPressure               0\n",
      "SkinThickness               0\n",
      "Insulin                     0\n",
      "BMI                         0\n",
      "DiabetesPedigreeFunction    0\n",
      "Age                         0\n",
      "Outcome                     0\n",
      "dtype: int64\n",
      "0\n",
      "Best Hyperparameters: {'metric': 'manhattan', 'n_neighbors': 32, 'weights': 'distance'}\n",
      "Best Score: 0.767093162734906\n",
      "Test Accuracy: 0.7662337662337663\n",
      "Classification Report:\n",
      "              precision    recall  f1-score   support\n",
      "\n",
      "           0       0.78      0.89      0.83        99\n",
      "           1       0.73      0.55      0.62        55\n",
      "\n",
      "    accuracy                           0.77       154\n",
      "   macro avg       0.76      0.72      0.73       154\n",
      "weighted avg       0.76      0.77      0.76       154\n",
      "\n",
      "Confusion Matrix:\n",
      "[[88 11]\n",
      " [25 30]]\n"
     ]
    },
    {
     "data": {
      "image/png": "[encoded data removed]",
      "text/plain": [
       "<Figure size 600x400 with 1 Axes>"
      ]
     },
     "metadata": {},
     "output_type": "display_data"
    }
   ],
   "source": [
    "# Import necessary libraries\n",
    "import numpy as np\n",
    "import pandas as pd\n",
    "import matplotlib.pyplot as plt\n",
    "import seaborn as sns\n",
    "from sklearn.model_selection import train_test_split\n",
    "from sklearn.preprocessing import StandardScaler\n",
    "from sklearn.neighbors import KNeighborsClassifier\n",
    "from sklearn.metrics import accuracy_score, classification_report, confusion_matrix\n",
    "from sklearn.model_selection import GridSearchCV\n",
    "import joblib\n",
    "\n",
    "# Load the dataset\n",
    "df = pd.read_csv(\"D:/Bureau/ESILV/S6/diabetes.csv\")\n",
    "\n",
    "# Check for missing values\n",
    "print(df.isna().sum())\n",
    "\n",
    "# Check for duplicates\n",
    "print(df.duplicated().sum())\n",
    "\n",
    "# Remove duplicates if any\n",
    "df.drop_duplicates(inplace=True)\n",
    "\n",
    "# Separate features (X) and target variable (y)\n",
    "X = df.drop('Outcome', axis=1)\n",
    "y = df['Outcome']\n",
    "\n",
    "# Split the data into training and testing sets\n",
    "X_train, X_test, y_train, y_test = train_test_split(X, y, test_size=0.2, random_state=42)\n",
    "\n",
    "# Standardize the features\n",
    "scaler = StandardScaler()\n",
    "X_train_scaled = scaler.fit_transform(X_train)\n",
    "X_test_scaled = scaler.transform(X_test)\n",
    "\n",
    "# Create the KNN model\n",
    "knn = KNeighborsClassifier()\n",
    "\n",
    "# Define the grid of hyperparameters to test\n",
    "param_grid = {\n",
    "    'n_neighbors': np.arange(1, 35),\n",
    "    'weights': ['uniform', 'distance'],\n",
    "    'metric': ['euclidean', 'manhattan']\n",
    "}\n",
    "\n",
    "# Perform grid search with cross-validation to find the best hyperparameters\n",
    "grid_search = GridSearchCV(knn, param_grid, cv=5)\n",
    "grid_search.fit(X_train_scaled, y_train)\n",
    "\n",
    "# Display the best hyperparameters and the best score\n",
    "print(\"Best Hyperparameters:\", grid_search.best_params_)\n",
    "print(\"Best Score:\", grid_search.best_score_)\n",
    "\n",
    "# Train the model with the best hyperparameters\n",
    "best_knn = grid_search.best_estimator_\n",
    "best_knn.fit(X_train_scaled, y_train)\n",
    "\n",
    "# Evaluate the model on the test set\n",
    "y_pred = best_knn.predict(X_test_scaled)\n",
    "accuracy = accuracy_score(y_test, y_pred)\n",
    "print(\"Test Accuracy:\", accuracy)\n",
    "\n",
    "# Display the classification report and confusion matrix\n",
    "print(\"Classification Report:\")\n",
    "print(classification_report(y_test, y_pred))\n",
    "print(\"Confusion Matrix:\")\n",
    "print(confusion_matrix(y_test, y_pred))\n",
    "\n",
    "# Display the comparison between actual and predicted values on the test set\n",
    "plt.figure(figsize=(6, 4))\n",
    "sns.countplot(x=y_test, palette='Set1', alpha=0.7, label='Actual')\n",
    "sns.countplot(x=y_pred, palette='Set2', alpha=0.7, label='Predicted')\n",
    "plt.legend()\n",
    "plt.title('Comparison between Actual and Predicted Values')\n",
    "plt.xlabel('Outcome')\n",
    "plt.ylabel('Count')\n",
    "plt.show()\n"
   ]
  }
 ],
 "metadata": {
  "kernelspec": {
   "display_name": "Python 3 (ipykernel)",
   "language": "python",
   "name": "python3"
  },
  "language_info": {
   "codemirror_mode": {
    "name": "ipython",
    "version": 3
   },
   "file_extension": ".py",
   "mimetype": "text/x-python",
   "name": "python",
   "nbconvert_exporter": "python",
   "pygments_lexer": "ipython3",
   "version": "3.11.5"
  }
 },
 "nbformat": 4,
 "nbformat_minor": 5
}
